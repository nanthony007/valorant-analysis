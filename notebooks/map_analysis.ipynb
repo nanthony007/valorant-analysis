{
 "cells": [
  {
   "cell_type": "code",
   "execution_count": 1,
   "metadata": {},
   "outputs": [],
   "source": [
    "from __future__ import annotations"
   ]
  },
  {
   "cell_type": "code",
   "execution_count": 2,
   "metadata": {},
   "outputs": [],
   "source": [
    "import pandas as pd\n",
    "from pathlib import Path\n",
    "from pydantic import BaseModel\n",
    "import csv\n",
    "from collections import Counter, defaultdict\n",
    "from typing import Optional\n",
    "import yaml\n",
    "import enum"
   ]
  },
  {
   "cell_type": "code",
   "execution_count": 3,
   "metadata": {},
   "outputs": [],
   "source": [
    "p = Path('../data')"
   ]
  },
  {
   "cell_type": "code",
   "execution_count": 5,
   "metadata": {},
   "outputs": [],
   "source": [
    "def parse_matches(file_path: str) -> list[str]:\n",
    "    matches = []\n",
    "    for path in Path(file_path).iterdir():\n",
    "        match = path.parts[-1]\n",
    "        matches.append(match)\n",
    "    return matches"
   ]
  },
  {
   "cell_type": "code",
   "execution_count": 6,
   "metadata": {},
   "outputs": [],
   "source": [
    "def parse_maps(file_path: str):\n",
    "    maps = []\n",
    "    for path in Path(file_path).iterdir():\n",
    "        map = path.parts[-1]\n",
    "        maps.append(map)\n",
    "    return maps"
   ]
  },
  {
   "cell_type": "code",
   "execution_count": 7,
   "metadata": {},
   "outputs": [],
   "source": [
    "def get_round_counts(file_path: str) -> dict[str, int]:\n",
    "    rounds = []\n",
    "    round_path = Path(file_path).joinpath(\"time_series.csv\")\n",
    "    with open(round_path, 'r') as f:\n",
    "        csvreader = csv.DictReader(f)\n",
    "        for row in csvreader:\n",
    "            rounds.append(row[\"ResultType\"])\n",
    "    round_counts = Counter(rounds)\n",
    "    return dict(round_counts)"
   ]
  },
  {
   "cell_type": "code",
   "execution_count": 8,
   "metadata": {},
   "outputs": [],
   "source": [
    "def get_map_info(file_path: str) -> dict[str, str|int]:\n",
    "    map_path = Path(file_path).joinpath(\"map_info.yaml\")\n",
    "    with open(map_path, 'r') as f:\n",
    "        map_data = yaml.load(f, Loader=yaml.FullLoader)\n",
    "        return map_data"
   ]
  },
  {
   "cell_type": "code",
   "execution_count": 9,
   "metadata": {},
   "outputs": [],
   "source": [
    "class Team(BaseModel):\n",
    "    name: str\n",
    "    score: int\n",
    "\n",
    "class Eco(enum.Enum):\n",
    "    NONE = \"-\"\n",
    "    LIGHT = \"$\"\n",
    "    MED = \"$$\"\n",
    "    FULL = \"$$$\"\n",
    "\n",
    "class Round(BaseModel):\n",
    "    number: int\n",
    "    winner: Optional[str]\n",
    "    side_winner: str\n",
    "    result_type: str\n",
    "    team1_eco: Eco\n",
    "    team2_eco: Eco\n",
    "\n",
    "    @property\n",
    "    def is_pistol(self) -> bool:\n",
    "        return True if self.number == 1 or self.number == 13 else False\n",
    "\n",
    "class Results(BaseModel):\n",
    "    elim: int = 0\n",
    "    boom: int = 0\n",
    "    defuse: int = 0\n",
    "\n",
    "class Map(BaseModel):\n",
    "    name: str\n",
    "    duration: str\n",
    "    team1: Team\n",
    "    team2: Team\n",
    "    round_results: Results\n",
    "    rounds: list[Round]\n",
    "\n",
    "    # these need refactor to Map methods\n",
    "    # will use self.rounds, self.team1, self.team2\n",
    "    def set_round_winner_name(self):\n",
    "        ct_to_t = 0\n",
    "        for r in self.rounds:\n",
    "            if r.number < 13 and r.side_winner == \"ct\":\n",
    "                ct_to_t += 1\n",
    "            elif 13 <= r.number and r.side_winner == \"t\":\n",
    "                ct_to_t += 1\n",
    "        if ct_to_t == self.team1.score:\n",
    "            # team1 was ct first\n",
    "            for r in self.rounds:\n",
    "                if r.number < 13:\n",
    "                    if r.side_winner == \"ct\":\n",
    "                        r.winner = self.team1.name\n",
    "                    else:\n",
    "                        r.winner = self.team2.name\n",
    "                elif 13 <= r.number:\n",
    "                    if r.side_winner == \"t\":\n",
    "                        r.winner = self.team1.name\n",
    "                    else:\n",
    "                        r.winner = self.team2.name   \n",
    "        else:\n",
    "            # team 1 was t first\n",
    "            for r in self.rounds:\n",
    "                if r.number < 13:\n",
    "                    if r.side_winner == \"t\":\n",
    "                        r.winner = self.team1.name\n",
    "                    else:\n",
    "                        r.winner = self.team2.name\n",
    "                elif 13 <= r.number:\n",
    "                    if r.side_winner == \"ct\":\n",
    "                        r.winner = self.team1.name\n",
    "                    else:\n",
    "                        r.winner = self.team2.name\n",
    "        return\n",
    "\n",
    "\n",
    "    def pistol_wins(self, team_name: str) -> int:\n",
    "        return len([r for r in self.rounds if r.is_pistol and r.winner == team_name])\n",
    "\n",
    "\n",
    "    def bonus_wins(self, team_name: str) -> int:\n",
    "        # specifically looks at rounds after pistol wins\n",
    "        pistol_win_rounds = [r for r in self.rounds if r.is_pistol and r.winner == team_name]\n",
    "        bonus_wins = 0\n",
    "        for pistol in pistol_win_rounds:\n",
    "            bonus_round = [r for r in self.rounds if r.number == pistol.number + 1]\n",
    "            if not bonus_round:\n",
    "                continue # most likely 13-0\n",
    "            if bonus_round[0].winner == team_name:\n",
    "                bonus_wins += 1\n",
    "        return bonus_wins\n",
    "\n",
    "    def third_round_wins(self, team_name: str) -> int:\n",
    "        wins = 0\n",
    "        for r in self.rounds:\n",
    "            if r.number == 3 or r.number == 13:\n",
    "                if r.winner == team_name:\n",
    "                    wins += 1\n",
    "        return wins\n",
    "\n",
    "    @property\n",
    "    def winner(self) -> str:\n",
    "        if self.team1.score > self.team2.score:\n",
    "            return self.team1.name\n",
    "        else:\n",
    "            return self.team2.name\n",
    "\n",
    "    def is_winner(self, team_name: str) -> bool:\n",
    "        return self.winner == team_name"
   ]
  },
  {
   "cell_type": "code",
   "execution_count": 10,
   "metadata": {},
   "outputs": [],
   "source": [
    "def get_round_data(file_path: str) -> list[Round]:\n",
    "    rounds = []\n",
    "    round_path = Path(file_path).joinpath(\"time_series.csv\")\n",
    "    with open(round_path, 'r') as f:\n",
    "        csvreader = csv.DictReader(f)\n",
    "        for row in csvreader:\n",
    "            r = Round(\n",
    "                number=row['RoundNumber'],\n",
    "                side_winner=row['Winner'],\n",
    "                result_type=row['ResultType'],\n",
    "                team1_eco=Eco(row['Team1Economy']),\n",
    "                team2_eco=Eco(row['Team2Economy']),\n",
    "            )\n",
    "            rounds.append(r)\n",
    "    return rounds"
   ]
  },
  {
   "cell_type": "code",
   "execution_count": 11,
   "metadata": {},
   "outputs": [
    {
     "name": "stdout",
     "output_type": "stream",
     "text": [
      "Map name='Haven' duration='49:37' team1=<Team name='G2 Esports' score=13> team2=<Team name='F4Q' score=8> round_results=<Results elim=13 boom=2 defuse=6> rounds=[<Round number=1 winner='F4Q' side_winner='ct' result_type='elim' team1_eco=<Ec…\n"
     ]
    }
   ],
   "source": [
    "map_data = []\n",
    "for match in parse_matches(\"../data\"):\n",
    "    maps = parse_maps(f\"../data/{match}/maps\")\n",
    "    for map_ in maps:\n",
    "        round_counts = get_round_counts(f\"../data/{match}/maps/{map_}\")\n",
    "        round_data = get_round_data(f\"../data/{match}/maps/{map_}\")\n",
    "        map_info = get_map_info(f\"../data/{match}/maps/{map_}\")\n",
    "        team1 = Team(\n",
    "            name=map_info[\"Team1\"][\"name\"],\n",
    "            score=map_info[\"Team1\"][\"score\"]\n",
    "        )\n",
    "        team2 = Team(\n",
    "            name=map_info[\"Team2\"][\"name\"],\n",
    "            score=map_info[\"Team2\"][\"score\"]\n",
    "        )\n",
    "        map_info = Map(\n",
    "            name=map_info[\"Name\"],\n",
    "            duration=map_info[\"Duration\"],\n",
    "            team1=team1,\n",
    "            team2=team2,\n",
    "            round_results=Results(**round_counts),\n",
    "            rounds=round_data,\n",
    "        )\n",
    "        map_info.set_round_winner_name()\n",
    "        map_data.append(map_info)\n",
    "\n",
    "print(map_data[0])"
   ]
  },
  {
   "cell_type": "code",
   "execution_count": 34,
   "metadata": {},
   "outputs": [],
   "source": [
    "# this can be good input for ML 😃\n",
    "def round_winners_dataset(m_data: list[Map]):\n",
    "    data = []\n",
    "    for m in m_data:\n",
    "        for team in [m.team1, m.team2]:\n",
    "            row = {\n",
    "                \"map_name\": m.name,\n",
    "                \"team_name\": team.name,\n",
    "                \"won\": m.is_winner(team.name),\n",
    "            }\n",
    "            for r in m.rounds:\n",
    "                row = row | {f\"round_{r.number}\": r.winner == team.name}\n",
    "            data.append(row)\n",
    "    return data"
   ]
  },
  {
   "cell_type": "code",
   "execution_count": 39,
   "metadata": {},
   "outputs": [
    {
     "name": "stdout",
     "output_type": "stream",
     "text": [
      "(132, 31)\n"
     ]
    }
   ],
   "source": [
    "data = round_winners_dataset(map_data)\n",
    "df = pd.DataFrame(data)\n",
    "\n",
    "import pickle\n",
    "\n",
    "with open('ts-data.pkl', 'wb') as f:\n",
    "    pickle.dump(df, f)"
   ]
  },
  {
   "cell_type": "code",
   "execution_count": 19,
   "metadata": {},
   "outputs": [
    {
     "data": {
      "text/plain": [
       "{'G2 Esports': 0,\n",
       " 'F4Q': 0,\n",
       " 'map_name': 'Haven',\n",
       " 'map_winner': 'G2 Esports',\n",
       " 'round_number': 0}"
      ]
     },
     "execution_count": 19,
     "metadata": {},
     "output_type": "execute_result"
    }
   ],
   "source": [
    "round_winners_dataset(map_data)[0]"
   ]
  },
  {
   "cell_type": "code",
   "execution_count": 46,
   "metadata": {},
   "outputs": [
    {
     "data": {
      "text/plain": [
       "15"
      ]
     },
     "execution_count": 46,
     "metadata": {},
     "output_type": "execute_result"
    }
   ],
   "source": [
    "teams = set()\n",
    "for m in map_data:\n",
    "    teams.add(m.team1.name)\n",
    "    teams.add(m.team2.name)\n",
    "\n",
    "len(teams)"
   ]
  },
  {
   "cell_type": "code",
   "execution_count": 47,
   "metadata": {},
   "outputs": [
    {
     "data": {
      "text/plain": [
       "{'team_name': 'Vision Strikers',\n",
       " 'pistol_wins': 2,\n",
       " 'bonus_wins': 1,\n",
       " 'third_round_wins': 1,\n",
       " 'is_winner': True}"
      ]
     },
     "execution_count": 47,
     "metadata": {},
     "output_type": "execute_result"
    }
   ],
   "source": [
    "team_data = []\n",
    "for team in teams:\n",
    "    team_maps = [m for m in map_data if m.team1.name == team or m.team2.name == team]\n",
    "    for map_ in team_maps:\n",
    "        t_data = {\n",
    "            \"team_name\": team,\n",
    "            \"pistol_wins\": map_.pistol_wins(team),\n",
    "            \"bonus_wins\": map_.bonus_wins(team),\n",
    "            \"third_round_wins\": map_.third_round_wins(team),\n",
    "            \"is_winner\": map_.is_winner(team),\n",
    "        }\n",
    "        team_data.append(t_data)\n",
    "\n",
    "team_data[0]"
   ]
  },
  {
   "cell_type": "code",
   "execution_count": 49,
   "metadata": {},
   "outputs": [
    {
     "data": {
      "text/html": [
       "<div>\n",
       "<style scoped>\n",
       "    .dataframe tbody tr th:only-of-type {\n",
       "        vertical-align: middle;\n",
       "    }\n",
       "\n",
       "    .dataframe tbody tr th {\n",
       "        vertical-align: top;\n",
       "    }\n",
       "\n",
       "    .dataframe thead th {\n",
       "        text-align: right;\n",
       "    }\n",
       "</style>\n",
       "<table border=\"1\" class=\"dataframe\">\n",
       "  <thead>\n",
       "    <tr style=\"text-align: right;\">\n",
       "      <th></th>\n",
       "      <th>team_name</th>\n",
       "      <th>pistol_wins</th>\n",
       "      <th>bonus_wins</th>\n",
       "      <th>third_round_wins</th>\n",
       "      <th>is_winner</th>\n",
       "    </tr>\n",
       "  </thead>\n",
       "  <tbody>\n",
       "    <tr>\n",
       "      <th>0</th>\n",
       "      <td>Vision Strikers</td>\n",
       "      <td>2</td>\n",
       "      <td>1</td>\n",
       "      <td>1</td>\n",
       "      <td>True</td>\n",
       "    </tr>\n",
       "    <tr>\n",
       "      <th>1</th>\n",
       "      <td>Vision Strikers</td>\n",
       "      <td>1</td>\n",
       "      <td>1</td>\n",
       "      <td>1</td>\n",
       "      <td>True</td>\n",
       "    </tr>\n",
       "    <tr>\n",
       "      <th>2</th>\n",
       "      <td>Vision Strikers</td>\n",
       "      <td>1</td>\n",
       "      <td>1</td>\n",
       "      <td>0</td>\n",
       "      <td>True</td>\n",
       "    </tr>\n",
       "    <tr>\n",
       "      <th>3</th>\n",
       "      <td>Vision Strikers</td>\n",
       "      <td>2</td>\n",
       "      <td>2</td>\n",
       "      <td>2</td>\n",
       "      <td>True</td>\n",
       "    </tr>\n",
       "    <tr>\n",
       "      <th>4</th>\n",
       "      <td>Vision Strikers</td>\n",
       "      <td>1</td>\n",
       "      <td>1</td>\n",
       "      <td>0</td>\n",
       "      <td>True</td>\n",
       "    </tr>\n",
       "    <tr>\n",
       "      <th>...</th>\n",
       "      <td>...</td>\n",
       "      <td>...</td>\n",
       "      <td>...</td>\n",
       "      <td>...</td>\n",
       "      <td>...</td>\n",
       "    </tr>\n",
       "    <tr>\n",
       "      <th>127</th>\n",
       "      <td>Sentinels</td>\n",
       "      <td>1</td>\n",
       "      <td>1</td>\n",
       "      <td>2</td>\n",
       "      <td>False</td>\n",
       "    </tr>\n",
       "    <tr>\n",
       "      <th>128</th>\n",
       "      <td>Sentinels</td>\n",
       "      <td>0</td>\n",
       "      <td>0</td>\n",
       "      <td>0</td>\n",
       "      <td>False</td>\n",
       "    </tr>\n",
       "    <tr>\n",
       "      <th>129</th>\n",
       "      <td>Sentinels</td>\n",
       "      <td>1</td>\n",
       "      <td>1</td>\n",
       "      <td>1</td>\n",
       "      <td>False</td>\n",
       "    </tr>\n",
       "    <tr>\n",
       "      <th>130</th>\n",
       "      <td>Sentinels</td>\n",
       "      <td>1</td>\n",
       "      <td>1</td>\n",
       "      <td>1</td>\n",
       "      <td>True</td>\n",
       "    </tr>\n",
       "    <tr>\n",
       "      <th>131</th>\n",
       "      <td>Sentinels</td>\n",
       "      <td>1</td>\n",
       "      <td>0</td>\n",
       "      <td>2</td>\n",
       "      <td>True</td>\n",
       "    </tr>\n",
       "  </tbody>\n",
       "</table>\n",
       "<p>132 rows × 5 columns</p>\n",
       "</div>"
      ],
      "text/plain": [
       "           team_name  pistol_wins  bonus_wins  third_round_wins  is_winner\n",
       "0    Vision Strikers            2           1                 1       True\n",
       "1    Vision Strikers            1           1                 1       True\n",
       "2    Vision Strikers            1           1                 0       True\n",
       "3    Vision Strikers            2           2                 2       True\n",
       "4    Vision Strikers            1           1                 0       True\n",
       "..               ...          ...         ...               ...        ...\n",
       "127        Sentinels            1           1                 2      False\n",
       "128        Sentinels            0           0                 0      False\n",
       "129        Sentinels            1           1                 1      False\n",
       "130        Sentinels            1           1                 1       True\n",
       "131        Sentinels            1           0                 2       True\n",
       "\n",
       "[132 rows x 5 columns]"
      ]
     },
     "execution_count": 49,
     "metadata": {},
     "output_type": "execute_result"
    }
   ],
   "source": [
    "team_df = pd.DataFrame(team_data)\n",
    "team_df"
   ]
  },
  {
   "cell_type": "code",
   "execution_count": 68,
   "metadata": {},
   "outputs": [
    {
     "data": {
      "text/plain": [
       "pistol_wins         0.603382\n",
       "bonus_wins          0.577899\n",
       "third_round_wins    0.314627\n",
       "is_winner           1.000000\n",
       "Name: is_winner, dtype: float64"
      ]
     },
     "execution_count": 68,
     "metadata": {},
     "output_type": "execute_result"
    }
   ],
   "source": [
    "team_df.corr()['is_winner']"
   ]
  },
  {
   "cell_type": "code",
   "execution_count": 69,
   "metadata": {},
   "outputs": [
    {
     "data": {
      "text/plain": [
       "[['Gambit Esports', 0.8, 0.73, 15],\n",
       " ['Vision Strikers', 0.71, 0.64, 7],\n",
       " ['Envy', 0.73, 0.59, 11],\n",
       " ['SuperMassive Blaze', 0.38, 0.56, 8],\n",
       " ['100 Thieves', 0.6, 0.55, 10],\n",
       " ['Vivo Keyd', 0.33, 0.5, 6],\n",
       " ['Sentinels', 0.5, 0.5, 12],\n",
       " ['G2 Esports', 0.64, 0.46, 14],\n",
       " ['KRÜ Esports', 0.44, 0.44, 9],\n",
       " ['Crazy Raccoon', 0.33, 0.42, 6],\n",
       " ['Acend', 0.5, 0.4, 10],\n",
       " ['F4Q', 0.2, 0.4, 10],\n",
       " ['ZETA DIVISION', 0.2, 0.4, 5],\n",
       " ['Havan Liberty', 0.0, 0.25, 4],\n",
       " ['Paper Rex', 0.2, 0.2, 5]]"
      ]
     },
     "execution_count": 69,
     "metadata": {},
     "output_type": "execute_result"
    }
   ],
   "source": [
    "info = []\n",
    "for team in team_df.team_name.unique():\n",
    "    temp = team_df[team_df.team_name == team]\n",
    "    wins = temp.is_winner.sum()\n",
    "    ratio = wins / temp.shape[0]\n",
    "    pistol_ratio = temp.pistol_wins.sum() / (temp.shape[0] * 2)\n",
    "    info.append([team, round(ratio, 2), round(pistol_ratio, 2), temp.shape[0]])\n",
    "\n",
    "sorted(info, key=lambda x: x[-2], reverse=True)"
   ]
  },
  {
   "cell_type": "code",
   "execution_count": null,
   "metadata": {},
   "outputs": [],
   "source": []
  },
  {
   "cell_type": "code",
   "execution_count": 50,
   "metadata": {},
   "outputs": [
    {
     "data": {
      "text/plain": [
       "{'Haven': defaultdict(int, {'elim': 210, 'boom': 25, 'defuse': 44}),\n",
       " 'Ascent': defaultdict(int, {'elim': 170, 'boom': 9, 'defuse': 26}),\n",
       " 'Bind': defaultdict(int, {'elim': 123, 'boom': 17, 'defuse': 29}),\n",
       " 'Split': defaultdict(int, {'elim': 220, 'boom': 24, 'defuse': 47}),\n",
       " 'Icebox': defaultdict(int, {'elim': 211, 'boom': 18, 'defuse': 38}),\n",
       " 'Breeze': defaultdict(int, {'elim': 86, 'boom': 13, 'defuse': 14})}"
      ]
     },
     "execution_count": 50,
     "metadata": {},
     "output_type": "execute_result"
    }
   ],
   "source": [
    "# looks at different results for the maps\n",
    "map_results = dict()\n",
    "\n",
    "for map_name in [map.name for map in map_data]:\n",
    "    all_results = []\n",
    "    for x in [m for m in map_data if m.name == map_name]:\n",
    "        all_results.extend(x.round_results)\n",
    "\n",
    "    d = defaultdict(int)\n",
    "    for item in all_results:\n",
    "        d[item[0]] += item[1]\n",
    "    map_results[map_name] = d\n",
    "map_results"
   ]
  },
  {
   "cell_type": "code",
   "execution_count": null,
   "metadata": {},
   "outputs": [],
   "source": []
  }
 ],
 "metadata": {
  "interpreter": {
   "hash": "6a18d03119542da5d2bd56afe74f15e35605dd80181515ac7e81ffc8d88243f9"
  },
  "kernelspec": {
   "display_name": "Python 3.9.7 64-bit ('valorant': conda)",
   "name": "python3"
  },
  "language_info": {
   "codemirror_mode": {
    "name": "ipython",
    "version": 3
   },
   "file_extension": ".py",
   "mimetype": "text/x-python",
   "name": "python",
   "nbconvert_exporter": "python",
   "pygments_lexer": "ipython3",
   "version": "3.9.7"
  },
  "orig_nbformat": 4
 },
 "nbformat": 4,
 "nbformat_minor": 2
}
